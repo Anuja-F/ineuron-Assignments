{
  "nbformat": 4,
  "nbformat_minor": 0,
  "metadata": {
    "colab": {
      "name": "pythonassgn2.ipynb",
      "provenance": [],
      "authorship_tag": "ABX9TyNQUBNMIjRyvAXqqyO+T9TR",
      "include_colab_link": true
    },
    "kernelspec": {
      "name": "python3",
      "display_name": "Python 3"
    }
  },
  "cells": [
    {
      "cell_type": "markdown",
      "metadata": {
        "id": "view-in-github",
        "colab_type": "text"
      },
      "source": [
        "<a href=\"https://colab.research.google.com/github/Anuja-F/ineuron-Assignments/blob/master/pythonassgn2.ipynb\" target=\"_parent\"><img src=\"https://colab.research.google.com/assets/colab-badge.svg\" alt=\"Open In Colab\"/></a>"
      ]
    },
    {
      "cell_type": "markdown",
      "metadata": {
        "id": "CI8yDMqTLFX2",
        "colab_type": "text"
      },
      "source": [
        "**1. Create the below pattern using nested for loop in Python.**"
      ]
    },
    {
      "cell_type": "code",
      "metadata": {
        "id": "9lc3oqTSK8qB",
        "colab_type": "code",
        "colab": {}
      },
      "source": [
        "def pattern(n):\n",
        "  for i in range(1,n):\n",
        "    for j in range(i):\n",
        "      print(\"* \",end=\" \")\n",
        "    print()  \n",
        "  for i in range(n,0,-1):\n",
        "    for j in range(i,0,-1):\n",
        "      print(\"* \",end=\" \")\n",
        "    print()  \n"
      ],
      "execution_count": 6,
      "outputs": []
    },
    {
      "cell_type": "code",
      "metadata": {
        "id": "ebwqKbVlNHmu",
        "colab_type": "code",
        "colab": {
          "base_uri": "https://localhost:8080/",
          "height": 225
        },
        "outputId": "27c5c058-b626-4ef7-e63c-8cc0fe46f5eb"
      },
      "source": [
        "size = int(input(\"Enter pattern size\"))\n",
        "pattern(size)"
      ],
      "execution_count": 8,
      "outputs": [
        {
          "output_type": "stream",
          "text": [
            "Enter pattern size6\n",
            "*  \n",
            "*  *  \n",
            "*  *  *  \n",
            "*  *  *  *  \n",
            "*  *  *  *  *  \n",
            "*  *  *  *  *  *  \n",
            "*  *  *  *  *  \n",
            "*  *  *  *  \n",
            "*  *  *  \n",
            "*  *  \n",
            "*  \n"
          ],
          "name": "stdout"
        }
      ]
    },
    {
      "cell_type": "markdown",
      "metadata": {
        "id": "JxrgYxCym08f",
        "colab_type": "text"
      },
      "source": [
        "**2. Write a Python program to reverse a word after accepting the input from the user.**"
      ]
    },
    {
      "cell_type": "code",
      "metadata": {
        "id": "NcZRlC71nCvn",
        "colab_type": "code",
        "colab": {}
      },
      "source": [
        "def reverse(word):\n",
        "  return word[::-1]"
      ],
      "execution_count": 9,
      "outputs": []
    },
    {
      "cell_type": "code",
      "metadata": {
        "id": "ItUtuCNENJZM",
        "colab_type": "code",
        "colab": {
          "base_uri": "https://localhost:8080/",
          "height": 53
        },
        "outputId": "e8f23323-7b2f-4a47-f343-cdfb11dc2dcc"
      },
      "source": [
        "word =input(\"Enter word to reverse\")\n",
        "reverse(word)"
      ],
      "execution_count": 10,
      "outputs": [
        {
          "output_type": "stream",
          "text": [
            "Enter word to reverseineuron\n"
          ],
          "name": "stdout"
        },
        {
          "output_type": "execute_result",
          "data": {
            "application/vnd.google.colaboratory.intrinsic+json": {
              "type": "string"
            },
            "text/plain": [
              "'norueni'"
            ]
          },
          "metadata": {
            "tags": []
          },
          "execution_count": 10
        }
      ]
    }
  ]
}