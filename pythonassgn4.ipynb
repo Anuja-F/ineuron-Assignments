{
  "nbformat": 4,
  "nbformat_minor": 0,
  "metadata": {
    "colab": {
      "name": "pythonassgn4.ipynb",
      "provenance": [],
      "authorship_tag": "ABX9TyMnbkdsu1oGEbS6RseuzjvR",
      "include_colab_link": true
    },
    "kernelspec": {
      "name": "python3",
      "display_name": "Python 3"
    }
  },
  "cells": [
    {
      "cell_type": "markdown",
      "metadata": {
        "id": "view-in-github",
        "colab_type": "text"
      },
      "source": [
        "<a href=\"https://colab.research.google.com/github/Anuja-F/ineuron-Assignments/blob/master/pythonassgn4.ipynb\" target=\"_parent\"><img src=\"https://colab.research.google.com/assets/colab-badge.svg\" alt=\"Open In Colab\"/></a>"
      ]
    },
    {
      "cell_type": "markdown",
      "metadata": {
        "id": "CvGiRF__tJap",
        "colab_type": "text"
      },
      "source": [
        "**1.1 Write a Python Program(with class concepts) to find the area of the triangle using the below\n",
        "formula.**\n",
        "```\n",
        "area = (s*(s-a)*(s-b)*(s-c))**0.5\n",
        "```\n",
        "**Function to take the length of the sides of triangle from user should be defined in the parent\n",
        "class and function to calculate the area should be defined in subclass.**\n"
      ]
    },
    {
      "cell_type": "code",
      "metadata": {
        "id": "Yd8fCJ56tjIc",
        "colab_type": "code",
        "colab": {}
      },
      "source": [
        "# input from user taken in parent class\n",
        "class Triangle:\n",
        "  def __init__(self):\n",
        "    a = input(\"Enter length of side1: \")\n",
        "    b = input(\"Enter length of side2: \")\n",
        "    c = input(\"Enter length of side3: \")\n",
        "    self.a= float(a)\n",
        "    self.b= float(b)\n",
        "    self.c= float(c)\n",
        "    \n",
        "# area of triangle calculated in child class\n",
        "class Area(Triangle): \n",
        "  def __init__(self):\n",
        "    super().__init__()   \n",
        "  def area(self):\n",
        "    s = (self.a+self.b+self.c)/2\n",
        "    return (s*(s-self.a)*(s-self.b)*(s-self.c))**0.5\n",
        "  \n",
        "\n",
        "       "
      ],
      "execution_count": 24,
      "outputs": []
    },
    {
      "cell_type": "code",
      "metadata": {
        "id": "vAdj149NYO30",
        "colab_type": "code",
        "colab": {
          "base_uri": "https://localhost:8080/",
          "height": 87
        },
        "outputId": "2f632b76-f3d9-4dfe-851b-de0df38da613"
      },
      "source": [
        "\n",
        "area_of_triangle = Area()\n",
        "print(\"Area of triangle is {}\".format(area_of_triangle.area()))"
      ],
      "execution_count": 25,
      "outputs": [
        {
          "output_type": "stream",
          "text": [
            "Enter length of side1: 2\n",
            "Enter length of side2: 4\n",
            "Enter length of side3: 5\n",
            "Area of triangle is 3.799671038392666\n"
          ],
          "name": "stdout"
        }
      ]
    },
    {
      "cell_type": "markdown",
      "metadata": {
        "id": "w9uRKRfsqfzt",
        "colab_type": "text"
      },
      "source": [
        "**1.2 Write a function filter_long_words() that takes a list of words and an integer n and returns the list of words that are longer than n.**"
      ]
    },
    {
      "cell_type": "code",
      "metadata": {
        "id": "yLOCLK3iqffc",
        "colab_type": "code",
        "colab": {}
      },
      "source": [
        "def filter_long_words(list_of_words,n):\n",
        "  res =[]\n",
        "  for i in list_of_words:\n",
        "    if len(i)>n:\n",
        "      res.append(i)\n",
        "  return res    "
      ],
      "execution_count": null,
      "outputs": []
    },
    {
      "cell_type": "code",
      "metadata": {
        "id": "rcljla0dra0R",
        "colab_type": "code",
        "colab": {
          "base_uri": "https://localhost:8080/",
          "height": 35
        },
        "outputId": "6a779911-435f-43b9-d358-e81b29be3dd9"
      },
      "source": [
        "words = [\"good\",\"nothing\",\"black\",\"tie\",\"arrived\",\"stations\",\"railways\",\"ineuron\",\"courses\",\"the\",\"row\",\"to\",\"showed\"]\n",
        "filter_long_words(words,5)"
      ],
      "execution_count": null,
      "outputs": [
        {
          "output_type": "execute_result",
          "data": {
            "text/plain": [
              "['nothing', 'arrived', 'stations', 'railways', 'ineuron', 'courses', 'showed']"
            ]
          },
          "metadata": {
            "tags": []
          },
          "execution_count": 9
        }
      ]
    },
    {
      "cell_type": "markdown",
      "metadata": {
        "id": "_Wq2_mWPpzCx",
        "colab_type": "text"
      },
      "source": [
        "**2.1 Write a Python program using function concept that maps list of words into a list of integersrepresenting the lengths of the corresponding words.**"
      ]
    },
    {
      "cell_type": "code",
      "metadata": {
        "id": "JYM5Jn5bpuB_",
        "colab_type": "code",
        "colab": {}
      },
      "source": [
        "def length_of_words(wordlist):\n",
        "  res=[]\n",
        "  for i in wordlist:\n",
        "    res.append(len(i))\n",
        "  return res  "
      ],
      "execution_count": null,
      "outputs": []
    },
    {
      "cell_type": "code",
      "metadata": {
        "id": "K6-GLw3oqLNf",
        "colab_type": "code",
        "colab": {
          "base_uri": "https://localhost:8080/",
          "height": 35
        },
        "outputId": "585c9b6c-91c6-463c-b13d-d1bb151e4b3b"
      },
      "source": [
        "wordlist =[\"a\",\"hello\",\"ho\",\"are\",\"your\",\"nothing\"]\n",
        "length_of_words(wordlist)"
      ],
      "execution_count": null,
      "outputs": [
        {
          "output_type": "execute_result",
          "data": {
            "text/plain": [
              "[1, 5, 2, 3, 4, 7]"
            ]
          },
          "metadata": {
            "tags": []
          },
          "execution_count": 3
        }
      ]
    },
    {
      "cell_type": "markdown",
      "metadata": {
        "id": "XPb5wj54sVL6",
        "colab_type": "text"
      },
      "source": [
        "**2.2 Write a Python function which takes a character (i.e. a string of length 1) and returns True if it is a vowel, False otherwise.**"
      ]
    },
    {
      "cell_type": "code",
      "metadata": {
        "id": "8XNd5MLrsU2W",
        "colab_type": "code",
        "colab": {}
      },
      "source": [
        "def vowel(char):\n",
        "  if char in ['a','e','i','o','u','A','E','I','O','U']:\n",
        "    return True\n",
        "  else:\n",
        "    return False  "
      ],
      "execution_count": null,
      "outputs": []
    },
    {
      "cell_type": "code",
      "metadata": {
        "id": "Ej6kYXDxsuX5",
        "colab_type": "code",
        "colab": {
          "base_uri": "https://localhost:8080/",
          "height": 35
        },
        "outputId": "e2bfc6cd-7765-4a6a-966f-650723d39c2d"
      },
      "source": [
        "character =['a','P','U','b','C','E','q','R','I']\n",
        "res=[]\n",
        "for i in character:\n",
        " res.append(vowel(i))\n",
        "res "
      ],
      "execution_count": null,
      "outputs": [
        {
          "output_type": "execute_result",
          "data": {
            "text/plain": [
              "[True, False, True, False, False, True, False, False, True]"
            ]
          },
          "metadata": {
            "tags": []
          },
          "execution_count": 13
        }
      ]
    }
  ]
}