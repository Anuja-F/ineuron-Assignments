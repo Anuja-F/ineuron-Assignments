{
 "cells": [
  {
   "cell_type": "markdown",
   "metadata": {},
   "source": [
    "**Write a function so that the columns of the output matrix are powers of the input\n",
    "vector.\n",
    "The order of the powers is determined by the increasing boolean argument. Specifically, when\n",
    "increasing is False, the i-th output column is the input vector raised element-wise to the power\n",
    "of N - i - 1.\n",
    "HINT: Such a matrix with a geometric progression in each row is named for Alexandre-\n",
    "Theophile Vandermonde.**"
   ]
  },
  {
   "cell_type": "code",
   "execution_count": 4,
   "metadata": {},
   "outputs": [
    {
     "name": "stdout",
     "output_type": "stream",
     "text": [
      "[[   1    1    1    1    1    1]\n",
      " [  32   16    8    4    2    1]\n",
      " [ 243   81   27    9    3    1]\n",
      " [1024  256   64   16    4    1]\n",
      " [3125  625  125   25    5    1]\n",
      " [7776 1296  216   36    6    1]]\n"
     ]
    }
   ],
   "source": [
    "import numpy as np\n",
    "inp = np.array([1,2,3,4,5,6])\n",
    "N = 6\n",
    "mat = np.array([inp**(N-i-1) for i in range(N)])\n",
    "print(mat.T)"
   ]
  },
  {
   "cell_type": "code",
   "execution_count": 6,
   "metadata": {},
   "outputs": [
    {
     "name": "stdout",
     "output_type": "stream",
     "text": [
      "[[  1   1   1   1   1]\n",
      " [  1   2   4   8  16]\n",
      " [  1   3   9  27  81]\n",
      " [  1   4  16  64 256]\n",
      " [  1   5  25 125 625]]\n"
     ]
    }
   ],
   "source": [
    "#using vander function\n",
    "\n",
    "inp = np.array([1,2,3,4,5])\n",
    "matv = np.vander(inp,increasing=True)\n",
    "print(matv)"
   ]
  },
  {
   "cell_type": "markdown",
   "metadata": {},
   "source": [
    "**Given a sequence of n values x1, x2, ..., xn and a window size k>0, the k-th moving average of\n",
    "the given sequence is defined as follows:\n",
    "The moving average sequence has n-k+1 elements as shown below.\n",
    "The moving averages with k=4 of a ten-value sequence (n=10) is shown below**\n",
    "\n",
    "i 1 2 3 4 5 6 7 8 9 10\n",
    "===== == == == == == == == == == ==\n",
    "Input 10 20 30 40 50 60 70 80 90 100\n",
    "\n",
    "y1 25 = (10+20+30+40)/4\n",
    "\n",
    "y2 35 = (20+30+40+50)/4\n",
    "\n",
    "y3 45 = (30+40+50+60)/4\n",
    "\n",
    "y4 55 = (40+50+60+70)/4\n",
    "\n",
    "y5 65 = (50+60+70+80)/4\n",
    "\n",
    "y6 75 = (60+70+80+90)/4\n",
    "\n",
    "y7 85 = (70+80+90+100)/4\n",
    "\n",
    "**Thus, the moving average sequence has n-k+1=10-4+1=7 values.\n",
    "Write a function to find moving average in an array over a window:\n",
    "Test it over[3,5, 7, 2, 8, 10, 11, 65, 72, 81, 99, 100, 150] and window of 3.**"
   ]
  },
  {
   "cell_type": "code",
   "execution_count": 30,
   "metadata": {},
   "outputs": [
    {
     "name": "stdout",
     "output_type": "stream",
     "text": [
      " Moving average is:  [  5.     4.67   5.67   6.67   9.67  28.67  49.33  72.67  84.    93.33\n",
      " 116.33]\n",
      "Lenght of moving sequence:  11\n"
     ]
    }
   ],
   "source": [
    "k=3\n",
    "N=13\n",
    "y =[]\n",
    "x = np.array([3,5, 7, 2, 8, 10, 11, 65, 72, 81, 99, 100, 150])\n",
    "def movavg(x,N,k):\n",
    "    for i in range(N-k+1):\n",
    "        avg=0\n",
    "        avg=sum(x[i:i+k])/k\n",
    "        y.append(avg)\n",
    "    return y\n",
    "\n",
    "print(\" Moving average is: \", np.array(movavg(x,N,k)).round(2))\n",
    "print(\"Lenght of moving sequence: \",N-k+1)\n",
    "        "
   ]
  },
  {
   "cell_type": "code",
   "execution_count": 35,
   "metadata": {},
   "outputs": [
    {
     "name": "stdout",
     "output_type": "stream",
     "text": [
      "[  3.   8.  15.  17.  25.  35.  46. 111. 183. 264. 363. 463. 613.]\n",
      "[ 17.  25.  35.  46. 111. 183. 264. 363. 463. 613.]\n",
      "[  3.   8.  15.  17.  25.  35.  46. 111. 183. 264.]\n",
      "[  3.   8.  15.  14.  17.  20.  29.  86. 148. 218. 252. 280. 349.]\n",
      " Moving average is:  [  5.     4.67   5.67   6.67   9.67  28.67  49.33  72.67  84.    93.33\n",
      " 116.33]\n",
      "Lenght of moving sequence:  11\n"
     ]
    }
   ],
   "source": [
    "# with cumsum function\n",
    "# This does sum as [a1,a1+a2,a1+a2+a3......]\n",
    "# so the list from the kth element we try to subtract list in reverse order till kth element\n",
    "# then we print the average from kth element\n",
    "def moving_avg(x,k):\n",
    "    csum = np.cumsum(x,dtype=float)\n",
    "    print(csum)\n",
    "    print(csum[k:])\n",
    "    print(csum[:-k])\n",
    "    csum[k:] = csum[k:]-csum[:-k]\n",
    "    print(csum)\n",
    "    return csum[k-1:]/k\n",
    "\n",
    "print(\" Moving average is: \", np.array(moving_avg(x,k)).round(2))\n",
    "print(\"Lenght of moving sequence: \",N-k+1)\n"
   ]
  },
  {
   "cell_type": "code",
   "execution_count": null,
   "metadata": {},
   "outputs": [],
   "source": []
  }
 ],
 "metadata": {
  "kernelspec": {
   "display_name": "Python 3.7.3 64-bit",
   "language": "python",
   "name": "python37364bite4ae7bf0ee5243e58af88af401603573"
  },
  "language_info": {
   "codemirror_mode": {
    "name": "ipython",
    "version": 3
   },
   "file_extension": ".py",
   "mimetype": "text/x-python",
   "name": "python",
   "nbconvert_exporter": "python",
   "pygments_lexer": "ipython3",
   "version": "3.7.3"
  }
 },
 "nbformat": 4,
 "nbformat_minor": 2
}
