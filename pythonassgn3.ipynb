{
  "nbformat": 4,
  "nbformat_minor": 0,
  "metadata": {
    "colab": {
      "name": "pythonassgn3.ipynb",
      "provenance": [],
      "authorship_tag": "ABX9TyM2Ul0PRO1SmAw7i4+/cSHO",
      "include_colab_link": true
    },
    "kernelspec": {
      "name": "python3",
      "display_name": "Python 3"
    }
  },
  "cells": [
    {
      "cell_type": "markdown",
      "metadata": {
        "id": "view-in-github",
        "colab_type": "text"
      },
      "source": [
        "<a href=\"https://colab.research.google.com/github/Anuja-F/ineuron-Assignments/blob/master/pythonassgn3.ipynb\" target=\"_parent\"><img src=\"https://colab.research.google.com/assets/colab-badge.svg\" alt=\"Open In Colab\"/></a>"
      ]
    },
    {
      "cell_type": "markdown",
      "metadata": {
        "id": "fb0jC6J3mbhs",
        "colab_type": "text"
      },
      "source": [
        "**1.1 Write a Python Program to implement your own myreduce() function which works exactly like Python's built-in function reduce()**"
      ]
    },
    {
      "cell_type": "code",
      "metadata": {
        "id": "lL2m06YFXPxW",
        "colab_type": "code",
        "colab": {}
      },
      "source": [
        "def myreduce(func,seq):\n",
        "  max = 0\n",
        "  for i in range(0,len(seq)):\n",
        "    max = func(max,seq[i])\n",
        "  return max  "
      ],
      "execution_count": 1,
      "outputs": []
    },
    {
      "cell_type": "code",
      "metadata": {
        "id": "DB2pBCALMVNi",
        "colab_type": "code",
        "colab": {}
      },
      "source": [
        "def func(x,y):\n",
        "  if x>y:\n",
        "    return x\n",
        "  else:\n",
        "    return y  "
      ],
      "execution_count": 2,
      "outputs": []
    },
    {
      "cell_type": "code",
      "metadata": {
        "id": "Fe8Zf4e0Mm_t",
        "colab_type": "code",
        "colab": {
          "base_uri": "https://localhost:8080/",
          "height": 52
        },
        "outputId": "96f459e5-cf4e-44a2-aed7-5a3dbda8ef6e"
      },
      "source": [
        "list_input = [45,90,12,34,57,120,446,1113,24,66,73,81,999]\n",
        "print(\"---myreduce function to find the maximum number in the list--\")\n",
        "print(\"max from list is: \",myreduce(func,list_input))"
      ],
      "execution_count": 4,
      "outputs": [
        {
          "output_type": "stream",
          "text": [
            "---myreduce function to find the maximum number in the list--\n",
            "max from list is:  1113\n"
          ],
          "name": "stdout"
        }
      ]
    },
    {
      "cell_type": "markdown",
      "metadata": {
        "id": "mU_-0e1TmjRf",
        "colab_type": "text"
      },
      "source": [
        "**1.2 Write a Python program to implement your own myfilter() function which works exactly like Python's built-in function filter()**"
      ]
    },
    {
      "cell_type": "code",
      "metadata": {
        "id": "NOz2apF6mgtw",
        "colab_type": "code",
        "colab": {}
      },
      "source": [
        "def myfilter(funca,seq):\n",
        "  res=[]\n",
        "  for i in seq:\n",
        "    if funca(i):\n",
        "      res.append(i)\n",
        "  return res    \n"
      ],
      "execution_count": 6,
      "outputs": []
    },
    {
      "cell_type": "code",
      "metadata": {
        "id": "ACeKF1RVQ5lK",
        "colab_type": "code",
        "colab": {}
      },
      "source": [
        "def funca(x):\n",
        "  if type(x)==str:\n",
        "    return True\n",
        "  else:\n",
        "    return False  "
      ],
      "execution_count": 7,
      "outputs": []
    },
    {
      "cell_type": "code",
      "metadata": {
        "id": "zIORDlh7RDij",
        "colab_type": "code",
        "colab": {
          "base_uri": "https://localhost:8080/",
          "height": 52
        },
        "outputId": "6042ffdf-668f-4a4f-e388-6690b3dd45db"
      },
      "source": [
        "seq = [1,\"ok\",\"good\",2,\"r\",[3,4],\"hello\",{4:\"re\"},\"w\"]\n",
        "print(\"---myfilter function to find the elements of type string---\")\n",
        "print(\"elements of string types are: \",myfilter(funca,seq))"
      ],
      "execution_count": 8,
      "outputs": [
        {
          "output_type": "stream",
          "text": [
            "---myfilter function to find the elements of type string---\n",
            "elements of string types are:  ['ok', 'good', 'r', 'hello', 'w']\n"
          ],
          "name": "stdout"
        }
      ]
    },
    {
      "cell_type": "markdown",
      "metadata": {
        "id": "sxlo0szrmteI",
        "colab_type": "text"
      },
      "source": [
        "**2. Implement List comprehensions to produce the following lists.\n",
        "Write List comprehensions to produce the following Lists**\n",
        "\n",
        "**a) ['x','xx','xxx','xxxx','y','yy','yyy','yyyy','z','zz','zzz','zzzz']**\n",
        "\n",
        "**b) ['x','y','z','xx','yy','zz','xxx','yyy','zzz','xxxx','yyyy','zzzz']**\n",
        "\n",
        "**c) [[2], [3], [4], [3], [4], [5], [4], [5], [6]]**\n",
        "\n",
        "**d) [[2, 3, 4, 5], [3, 4, 5, 6],[4, 5, 6, 7],[5, 6, 7, 8]]**\n",
        "\n",
        "**e) [(1, 1), (2, 1), (3, 1), (1, 2), (2, 2), (3, 2), (1, 3), (2, 3), (3, 3)]**\n",
        "\n"
      ]
    },
    {
      "cell_type": "code",
      "metadata": {
        "id": "TrrIltU-nwBE",
        "colab_type": "code",
        "colab": {
          "base_uri": "https://localhost:8080/",
          "height": 35
        },
        "outputId": "b75b52f9-2a10-43b4-d418-c9b32bb0598e"
      },
      "source": [
        "# a) ['x','xx','xxx','xxxx','y','yy','yyy','yyyy','z','zz','zzz','zzzz']\n",
        "\n",
        "alpha =['x','y','z']\n",
        "list_a = [i*j for i in alpha for j in range(1,5)]\n",
        "list_a"
      ],
      "execution_count": 13,
      "outputs": [
        {
          "output_type": "execute_result",
          "data": {
            "text/plain": [
              "['x', 'xx', 'xxx', 'xxxx', 'y', 'yy', 'yyy', 'yyyy', 'z', 'zz', 'zzz', 'zzzz']"
            ]
          },
          "metadata": {
            "tags": []
          },
          "execution_count": 13
        }
      ]
    },
    {
      "cell_type": "code",
      "metadata": {
        "id": "nOCwWVeiojYy",
        "colab_type": "code",
        "colab": {
          "base_uri": "https://localhost:8080/",
          "height": 35
        },
        "outputId": "01b71c6e-b065-415b-9f06-18567f028b8a"
      },
      "source": [
        "# b) ['x','y','z','xx','yy','zz','xxx','yyy','zzz','xxxx','yyyy','zzzz']\n",
        "list_b = [i*j for j in range(1,5) for i in alpha]\n",
        "list_b"
      ],
      "execution_count": 14,
      "outputs": [
        {
          "output_type": "execute_result",
          "data": {
            "text/plain": [
              "['x', 'y', 'z', 'xx', 'yy', 'zz', 'xxx', 'yyy', 'zzz', 'xxxx', 'yyyy', 'zzzz']"
            ]
          },
          "metadata": {
            "tags": []
          },
          "execution_count": 14
        }
      ]
    },
    {
      "cell_type": "code",
      "metadata": {
        "id": "ci8Q8Lvvpgi_",
        "colab_type": "code",
        "colab": {
          "base_uri": "https://localhost:8080/",
          "height": 35
        },
        "outputId": "6f011319-6e47-4727-81e8-845a715ee67c"
      },
      "source": [
        "# c) [[2], [3], [4], [3], [4], [5], [4], [5], [6]]\n",
        "list_c =[[i+j] for i in range(0,3) for j in range(2,5) ]\n",
        "list_c"
      ],
      "execution_count": 15,
      "outputs": [
        {
          "output_type": "execute_result",
          "data": {
            "text/plain": [
              "[[2], [3], [4], [3], [4], [5], [4], [5], [6]]"
            ]
          },
          "metadata": {
            "tags": []
          },
          "execution_count": 15
        }
      ]
    },
    {
      "cell_type": "code",
      "metadata": {
        "id": "e5RhotwTqwIu",
        "colab_type": "code",
        "colab": {
          "base_uri": "https://localhost:8080/",
          "height": 35
        },
        "outputId": "ff4b42d7-474c-4694-f096-cdd0d0154554"
      },
      "source": [
        "#d) [[2, 3, 4, 5], [3, 4, 5, 6],[4, 5, 6, 7],[5, 6, 7, 8]]\n",
        "list_d = [ [j+i for j in range (2,6)] for i in range(4)]\n",
        "list_d"
      ],
      "execution_count": 16,
      "outputs": [
        {
          "output_type": "execute_result",
          "data": {
            "text/plain": [
              "[[2, 3, 4, 5], [3, 4, 5, 6], [4, 5, 6, 7], [5, 6, 7, 8]]"
            ]
          },
          "metadata": {
            "tags": []
          },
          "execution_count": 16
        }
      ]
    },
    {
      "cell_type": "code",
      "metadata": {
        "id": "cXsFQRq_pm5Z",
        "colab_type": "code",
        "colab": {
          "base_uri": "https://localhost:8080/",
          "height": 35
        },
        "outputId": "89b99596-b731-4264-dd21-af37758c5d2b"
      },
      "source": [
        "# e) [(1, 1), (2, 1), (3, 1), (1, 2), (2, 2), (3, 2), (1, 3), (2, 3), (3, 3)]\n",
        "list_e = [(j,i) for i in range(1,4) for j in range(1,4)]\n",
        "list_e"
      ],
      "execution_count": 8,
      "outputs": [
        {
          "output_type": "execute_result",
          "data": {
            "text/plain": [
              "[(1, 1), (2, 1), (3, 1), (1, 2), (2, 2), (3, 2), (1, 3), (2, 3), (3, 3)]"
            ]
          },
          "metadata": {
            "tags": []
          },
          "execution_count": 8
        }
      ]
    },
    {
      "cell_type": "code",
      "metadata": {
        "id": "OuQaG8-4qt3o",
        "colab_type": "code",
        "colab": {}
      },
      "source": [
        ""
      ],
      "execution_count": null,
      "outputs": []
    }
  ]
}