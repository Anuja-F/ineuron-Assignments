{
  "nbformat": 4,
  "nbformat_minor": 0,
  "metadata": {
    "colab": {
      "name": "excptnhandlngassign.ipynb",
      "provenance": [],
      "authorship_tag": "ABX9TyPxermaP8jLQBNl/9ndkIMl",
      "include_colab_link": true
    },
    "kernelspec": {
      "name": "python3",
      "display_name": "Python 3"
    }
  },
  "cells": [
    {
      "cell_type": "markdown",
      "metadata": {
        "id": "view-in-github",
        "colab_type": "text"
      },
      "source": [
        "<a href=\"https://colab.research.google.com/github/Anuja-F/ineuron-Assignments/blob/master/excptnhandlngassign.ipynb\" target=\"_parent\"><img src=\"https://colab.research.google.com/assets/colab-badge.svg\" alt=\"Open In Colab\"/></a>"
      ]
    },
    {
      "cell_type": "markdown",
      "metadata": {
        "id": "e5MWojLPvWJx",
        "colab_type": "text"
      },
      "source": [
        "**1. Write a function to compute 5/0 and use try/except to catch the exceptions.**"
      ]
    },
    {
      "cell_type": "code",
      "metadata": {
        "id": "57zz3Pwnu8qg",
        "colab_type": "code",
        "colab": {}
      },
      "source": [
        "def cal():\n",
        "  try:\n",
        "    a = 5/0\n",
        "  except ZeroDivisionError:\n",
        "    print(\"Could not perform arithmetic operations because of division by zero error\")  "
      ],
      "execution_count": 6,
      "outputs": []
    },
    {
      "cell_type": "code",
      "metadata": {
        "id": "QFTIr7i4vmuo",
        "colab_type": "code",
        "colab": {
          "base_uri": "https://localhost:8080/",
          "height": 35
        },
        "outputId": "ed2fc2f8-772d-4a6c-e538-4ff80f605de4"
      },
      "source": [
        "cal()"
      ],
      "execution_count": 7,
      "outputs": [
        {
          "output_type": "stream",
          "text": [
            "Could not perform arithmetic operations because of division by zero error\n"
          ],
          "name": "stdout"
        }
      ]
    },
    {
      "cell_type": "markdown",
      "metadata": {
        "id": "04K3m0StwK5P",
        "colab_type": "text"
      },
      "source": [
        "**Implement a Python program to generate all sentences where subject is in\n",
        "[\"Americans\", \"Indians\"] and verb is in [\"Play\", \"watch\"] and the object is in [\"Baseball\",\"cricket\"].**"
      ]
    },
    {
      "cell_type": "markdown",
      "metadata": {
        "id": "USLjsEo1wYbV",
        "colab_type": "text"
      },
      "source": [
        "**Hint: Subject,Verb and Object should be declared in the program as shown below.**\n",
        "**subjects=[\"Americans \",\"Indians\"]**\n",
        "\n",
        "**verbs=[\"play\",\"watch\"]**\n",
        "\n",
        "**objects=[\"Baseball\",\"Cricket\"]**"
      ]
    },
    {
      "cell_type": "code",
      "metadata": {
        "id": "E3va9dRUvn7g",
        "colab_type": "code",
        "colab": {}
      },
      "source": [
        "def svb(sub,verb,obj):\n",
        "  try:\n",
        "    for i in sub:\n",
        "      for j in verb:\n",
        "        for k in obj:\n",
        "          print(i+\" \"+j+\" \"+k)\n",
        "  except:\n",
        "     print(\"Error processing loop\")\n"
      ],
      "execution_count": 11,
      "outputs": []
    },
    {
      "cell_type": "code",
      "metadata": {
        "id": "MEOLK_spxwek",
        "colab_type": "code",
        "colab": {
          "base_uri": "https://localhost:8080/",
          "height": 156
        },
        "outputId": "aac64de7-2cba-44d0-bcc4-7dc528b86f01"
      },
      "source": [
        "subjects =[\"Americans\",\"Indians\"]\n",
        "verbs = [\"play\",\"watch\"]\n",
        "objects =[\"Baseball\",\"Cricket\"]\n",
        "svb(subjects,verbs,objects)"
      ],
      "execution_count": 12,
      "outputs": [
        {
          "output_type": "stream",
          "text": [
            "Americans play Baseball\n",
            "Americans play Cricket\n",
            "Americans watch Baseball\n",
            "Americans watch Cricket\n",
            "Indians play Baseball\n",
            "Indians play Cricket\n",
            "Indians watch Baseball\n",
            "Indians watch Cricket\n"
          ],
          "name": "stdout"
        }
      ]
    },
    {
      "cell_type": "code",
      "metadata": {
        "id": "_EW3jJcVyCCg",
        "colab_type": "code",
        "colab": {}
      },
      "source": [
        ""
      ],
      "execution_count": null,
      "outputs": []
    }
  ]
}